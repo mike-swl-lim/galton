{
 "cells": [
  {
   "cell_type": "code",
   "execution_count": 2,
   "id": "32842770-d373-40b3-9f98-627f15a8272e",
   "metadata": {},
   "outputs": [],
   "source": [
    "from galton.simple_linear_regr import SimpleLinearRegression\n",
    "from galton.simple_linear_regr_utils import generate_data, evaluate\n",
    "import numpy as np"
   ]
  },
  {
   "cell_type": "code",
   "execution_count": 3,
   "id": "3b3b0c4d-1b48-4376-b061-cb1db90f5701",
   "metadata": {},
   "outputs": [
    {
     "name": "stdout",
     "output_type": "stream",
     "text": [
      "# Training Samples: 422; # Test samples: 20;\n"
     ]
    }
   ],
   "source": [
    "X_train, y_train, X_test, y_test = generate_data()"
   ]
  },
  {
   "cell_type": "code",
   "execution_count": 4,
   "id": "73c74a6d-d5dc-4c91-a0bf-8ad048140879",
   "metadata": {},
   "outputs": [],
   "source": [
    "model = SimpleLinearRegression(iterations = 2000, lr = 0.002)"
   ]
  },
  {
   "cell_type": "code",
   "execution_count": 5,
   "id": "07b98a51-2efe-4647-8e32-51c1b81382ab",
   "metadata": {},
   "outputs": [
    {
     "name": "stdout",
     "output_type": "stream",
     "text": [
      "(1, 1)\n",
      "()\n",
      "Initial Loss: 29715.332986705456\n",
      "Iteration 0, Loss: 17183.27121374964\n",
      "Iteration 100, Loss: 4874.717884273985\n",
      "Iteration 200, Loss: 4382.553704043611\n",
      "Iteration 300, Loss: 4153.764644962531\n",
      "Iteration 400, Loss: 4047.409010688813\n",
      "Iteration 500, Loss: 3997.9681808379582\n",
      "Iteration 600, Loss: 3974.9849541096933\n",
      "Iteration 700, Loss: 3964.3008957628526\n",
      "Iteration 800, Loss: 3959.3342692700494\n",
      "Iteration 900, Loss: 3957.025466948101\n",
      "Iteration 1000, Loss: 3955.952189509268\n",
      "Iteration 1100, Loss: 3955.4532622300653\n",
      "Iteration 1200, Loss: 3955.2213292545584\n",
      "Iteration 1300, Loss: 3955.113512128958\n",
      "Iteration 1400, Loss: 3955.0633919054435\n",
      "Iteration 1500, Loss: 3955.0400928535423\n",
      "Iteration 1600, Loss: 3955.0292619796674\n",
      "Iteration 1700, Loss: 3955.0242271040256\n",
      "Iteration 1800, Loss: 3955.0218865751804\n",
      "Iteration 1900, Loss: 3955.020798549245\n",
      "Iteration 2000, Loss: 3955.020292765931\n"
     ]
    }
   ],
   "source": [
    "model.fit(X_train, y_train)"
   ]
  },
  {
   "cell_type": "code",
   "execution_count": 6,
   "id": "0a4acd88-b347-4591-848e-e3bba731dccc",
   "metadata": {},
   "outputs": [
    {
     "name": "stdout",
     "output_type": "stream",
     "text": [
      "Slope: [[937.79739604]]; Intercept: [152.9190706]\n",
      "Mean squared error: 2548.57\n",
      "Coefficient of determination: 0.47\n"
     ]
    },
    {
     "data": {
      "image/png": "[encoded data removed]",
      "text/plain": [
       "<Figure size 432x288 with 1 Axes>"
      ]
     },
     "metadata": {},
     "output_type": "display_data"
    },
    {
     "name": "stdout",
     "output_type": "stream",
     "text": [
      "****** Success ******\n"
     ]
    }
   ],
   "source": [
    "predicted = model.predict(X_test)\n",
    "evaluate(model, X_test, y_test, predicted)"
   ]
  },
  {
   "cell_type": "code",
   "execution_count": 7,
   "id": "cfb75bd2-b536-4c47-af4c-805a206e94fa",
   "metadata": {},
   "outputs": [],
   "source": [
    "from galton.simple_linear_regr import load_model"
   ]
  },
  {
   "cell_type": "code",
   "execution_count": 8,
   "id": "9f93e43c-5513-4191-b90d-94374b21b887",
   "metadata": {},
   "outputs": [
    {
     "ename": "FileNotFoundError",
     "evalue": "[Errno 2] No such file or directory: './artifacts/simple_linear_regression.pkl'",
     "output_type": "error",
     "traceback": [
      "\u001b[0;31m---------------------------------------------------------------------------\u001b[0m",
      "\u001b[0;31mFileNotFoundError\u001b[0m                         Traceback (most recent call last)",
      "Input \u001b[0;32mIn [8]\u001b[0m, in \u001b[0;36m<module>\u001b[0;34m\u001b[0m\n\u001b[0;32m----> 1\u001b[0m model \u001b[38;5;241m=\u001b[39m \u001b[43mload_model\u001b[49m\u001b[43m(\u001b[49m\u001b[38;5;124;43m\"\u001b[39;49m\u001b[38;5;124;43m./artifacts/simple_linear_regression.pkl\u001b[39;49m\u001b[38;5;124;43m\"\u001b[39;49m\u001b[43m)\u001b[49m\n",
      "File \u001b[0;32m~/repos/ml-engineering-challenge/galton/simple_linear_regr.py:133\u001b[0m, in \u001b[0;36mload_model\u001b[0;34m(save_path)\u001b[0m\n\u001b[1;32m    132\u001b[0m \u001b[38;5;28;01mdef\u001b[39;00m \u001b[38;5;21mload_model\u001b[39m(save_path: \u001b[38;5;28mstr\u001b[39m) \u001b[38;5;241m-\u001b[39m\u001b[38;5;241m>\u001b[39m SimpleLinearRegression:\n\u001b[0;32m--> 133\u001b[0m     \u001b[38;5;28;01mwith\u001b[39;00m \u001b[38;5;28;43mopen\u001b[39;49m\u001b[43m(\u001b[49m\u001b[43msave_path\u001b[49m\u001b[43m,\u001b[49m\u001b[43m \u001b[49m\u001b[38;5;124;43m'\u001b[39;49m\u001b[38;5;124;43mrb\u001b[39;49m\u001b[38;5;124;43m'\u001b[39;49m\u001b[43m)\u001b[49m \u001b[38;5;28;01mas\u001b[39;00m \u001b[38;5;28minput\u001b[39m:\n\u001b[1;32m    134\u001b[0m         model \u001b[38;5;241m=\u001b[39m pickle\u001b[38;5;241m.\u001b[39mload(\u001b[38;5;28minput\u001b[39m)\n\u001b[1;32m    135\u001b[0m     \u001b[38;5;28;01mreturn\u001b[39;00m model\n",
      "\u001b[0;31mFileNotFoundError\u001b[0m: [Errno 2] No such file or directory: './artifacts/simple_linear_regression.pkl'"
     ]
    }
   ],
   "source": [
    "model = load_model(\"./artifacts/simple_linear_regression.pkl\")"
   ]
  },
  {
   "cell_type": "code",
   "execution_count": 9,
   "id": "d1503f05-c4c8-42ac-a410-55b247081d2c",
   "metadata": {},
   "outputs": [
    {
     "data": {
      "text/plain": [
       "array([210.77761242])"
      ]
     },
     "execution_count": 9,
     "metadata": {},
     "output_type": "execute_result"
    }
   ],
   "source": [
    "model.predict(X_train[0])"
   ]
  },
  {
   "cell_type": "code",
   "execution_count": 10,
   "id": "48fbd705-8317-47aa-a892-275c3cd9cadc",
   "metadata": {},
   "outputs": [
    {
     "ename": "TypeError",
     "evalue": "SimpleLinearRegression.__calculate_loss() missing 2 required positional arguments: 'y' and 'y_hat'",
     "output_type": "error",
     "traceback": [
      "\u001b[0;31m---------------------------------------------------------------------------\u001b[0m",
      "\u001b[0;31mTypeError\u001b[0m                                 Traceback (most recent call last)",
      "Input \u001b[0;32mIn [10]\u001b[0m, in \u001b[0;36m<module>\u001b[0;34m\u001b[0m\n\u001b[0;32m----> 1\u001b[0m \u001b[43mmodel\u001b[49m\u001b[38;5;241;43m.\u001b[39;49m\u001b[43m_SimpleLinearRegression__calculate_loss\u001b[49m\u001b[43m(\u001b[49m\u001b[43m)\u001b[49m\n",
      "\u001b[0;31mTypeError\u001b[0m: SimpleLinearRegression.__calculate_loss() missing 2 required positional arguments: 'y' and 'y_hat'"
     ]
    }
   ],
   "source": [
    "model._SimpleLinearRegression__calculate_loss()"
   ]
  },
  {
   "cell_type": "code",
   "execution_count": 50,
   "id": "4fec1be8-ccb1-4fec-8336-ba1789b719cc",
   "metadata": {},
   "outputs": [],
   "source": [
    "sample_y = np.array(\n",
    "    [1,2,3, 4])"
   ]
  },
  {
   "cell_type": "code",
   "execution_count": 21,
   "id": "c1b0bf47-bac4-48c5-97de-d1352ea88b09",
   "metadata": {},
   "outputs": [],
   "source": [
    "sample_y_hat = np.array(\n",
    "    [\n",
    "        2, 2, 3, 2\n",
    "    ]\n",
    ")"
   ]
  },
  {
   "cell_type": "code",
   "execution_count": 25,
   "id": "a2be2d60-19d9-44f1-921d-1350b156e2e7",
   "metadata": {},
   "outputs": [
    {
     "data": {
      "text/plain": [
       "0.75"
      ]
     },
     "execution_count": 25,
     "metadata": {},
     "output_type": "execute_result"
    }
   ],
   "source": [
    "model._SimpleLinearRegression__calculate_loss(\n",
    "    y,\n",
    "    sample_y_hat,\n",
    "    loss_metric = \"MAE\"\n",
    ")"
   ]
  },
  {
   "cell_type": "code",
   "execution_count": 43,
   "id": "9b535a44-a9ac-4d18-acce-973363d58bb0",
   "metadata": {},
   "outputs": [
    {
     "name": "stdout",
     "output_type": "stream",
     "text": [
      "(1, 1)\n",
      "()\n"
     ]
    }
   ],
   "source": [
    "sample_X = np.array(\n",
    "    [\n",
    "        [1],\n",
    "        [2],\n",
    "        [3],\n",
    "        [4]\n",
    "    ]\n",
    ")\n",
    "\n",
    "model._SimpleLinearRegression__init_weights(sample_X)"
   ]
  },
  {
   "cell_type": "code",
   "execution_count": 38,
   "id": "6ab84671-cc15-4c76-b4ea-c3dce49be284",
   "metadata": {},
   "outputs": [
    {
     "data": {
      "text/plain": [
       "(3, 1)"
      ]
     },
     "execution_count": 38,
     "metadata": {},
     "output_type": "execute_result"
    }
   ],
   "source": [
    "sample_X.shape"
   ]
  },
  {
   "cell_type": "code",
   "execution_count": 39,
   "id": "5a276ffd-8cef-44ee-a29f-4b0edb4fcee4",
   "metadata": {},
   "outputs": [
    {
     "data": {
      "text/plain": [
       "array([[0.72253358]])"
      ]
     },
     "execution_count": 39,
     "metadata": {},
     "output_type": "execute_result"
    }
   ],
   "source": [
    "model.W"
   ]
  },
  {
   "cell_type": "code",
   "execution_count": 40,
   "id": "67311e34-150d-421a-8d64-e6ff03eda52c",
   "metadata": {},
   "outputs": [
    {
     "data": {
      "text/plain": [
       "-0.1950834066837369"
      ]
     },
     "execution_count": 40,
     "metadata": {},
     "output_type": "execute_result"
    }
   ],
   "source": [
    "model.b"
   ]
  },
  {
   "cell_type": "code",
   "execution_count": 41,
   "id": "12cdbe2c-cd24-4de0-8ef5-87aa0b40463d",
   "metadata": {},
   "outputs": [
    {
     "data": {
      "text/plain": [
       "numpy.ndarray"
      ]
     },
     "execution_count": 41,
     "metadata": {},
     "output_type": "execute_result"
    }
   ],
   "source": [
    "type(model.W)"
   ]
  },
  {
   "cell_type": "code",
   "execution_count": 42,
   "id": "0a1ca669-df28-4e69-9cec-d1901bf10d4c",
   "metadata": {},
   "outputs": [
    {
     "data": {
      "text/plain": [
       "numpy.float64"
      ]
     },
     "execution_count": 42,
     "metadata": {},
     "output_type": "execute_result"
    }
   ],
   "source": [
    "type(model.b)"
   ]
  },
  {
   "cell_type": "code",
   "execution_count": 45,
   "id": "12bd9ee6-2a82-4e91-82e6-1078c95cea7e",
   "metadata": {},
   "outputs": [],
   "source": [
    "\n",
    "model.W = 1\n",
    "model.b = 1\n",
    "model._SimpleLinearRegression__sgd(\n",
    "    X = sample_X,\n",
    "    y = y,\n",
    "    y_hat = sample_y_hat\n",
    ")\n"
   ]
  },
  {
   "cell_type": "code",
   "execution_count": 48,
   "id": "b8bbc209-51bc-4d77-bb0c-68b7315a36b0",
   "metadata": {},
   "outputs": [
    {
     "data": {
      "text/plain": [
       "(4,)"
      ]
     },
     "execution_count": 48,
     "metadata": {},
     "output_type": "execute_result"
    }
   ],
   "source": [
    "model.W.shape"
   ]
  },
  {
   "cell_type": "code",
   "execution_count": 47,
   "id": "71e2bfa2-4a89-4fca-8e29-fc63f0ef38fa",
   "metadata": {},
   "outputs": [
    {
     "data": {
      "text/plain": [
       "1.004"
      ]
     },
     "execution_count": 47,
     "metadata": {},
     "output_type": "execute_result"
    }
   ],
   "source": [
    "model.b"
   ]
  },
  {
   "cell_type": "code",
   "execution_count": 51,
   "id": "c43e9b7e-ff4f-498a-b646-9a3ec4e6bc5d",
   "metadata": {},
   "outputs": [],
   "source": [
    "    y_hat =  model.predict(sample_y)"
   ]
  },
  {
   "cell_type": "code",
   "execution_count": 52,
   "id": "bedc2772-f62d-4740-9bb9-2f10d85a8e45",
   "metadata": {},
   "outputs": [
    {
     "data": {
      "text/plain": [
       "11.284"
      ]
     },
     "execution_count": 52,
     "metadata": {},
     "output_type": "execute_result"
    }
   ],
   "source": [
    "y_hat"
   ]
  },
  {
   "cell_type": "code",
   "execution_count": 53,
   "id": "c8c2af07-3ca8-473b-b325-d72bfbccee2e",
   "metadata": {},
   "outputs": [
    {
     "name": "stdout",
     "output_type": "stream",
     "text": [
      "(1, 1)\n",
      "()\n",
      "Initial Loss: 12.756173750439036\n",
      "Iteration 0, Loss: 9.682933629188668\n",
      "Iteration 100, Loss: 0.2711208332990957\n",
      "Iteration 200, Loss: 0.16783235523318452\n",
      "Iteration 300, Loss: 0.1038935264424305\n",
      "Iteration 400, Loss: 0.06431337283950464\n",
      "Iteration 500, Loss: 0.03981200819364914\n",
      "Iteration 600, Loss: 0.02464488995728111\n",
      "Iteration 700, Loss: 0.015255964935307734\n",
      "Iteration 800, Loss: 0.009443923933552738\n",
      "Iteration 900, Loss: 0.005846087064366318\n",
      "Iteration 1000, Loss: 0.00361891245679427\n",
      "Iteration 1100, Loss: 0.0022402210616684253\n",
      "Iteration 1200, Loss: 0.0013867675620947246\n",
      "Iteration 1300, Loss: 0.0008584529018961435\n",
      "Iteration 1400, Loss: 0.0005314094480698572\n",
      "Iteration 1500, Loss: 0.0003289592252226557\n",
      "Iteration 1600, Loss: 0.0002036361458234149\n",
      "Iteration 1700, Loss: 0.0001260572031617197\n",
      "Iteration 1800, Loss: 7.803338844733055e-05\n",
      "Iteration 1900, Loss: 4.8305131002786695e-05\n",
      "Iteration 2000, Loss: 2.990240110836272e-05\n"
     ]
    }
   ],
   "source": [
    "    predict_model = SimpleLinearRegression()\n",
    "    predict_model.fit(sample_X, sample_y)\n",
    "    y_hat =  model.predict(sample_y)\n"
   ]
  },
  {
   "cell_type": "code",
   "execution_count": 54,
   "id": "ed0a6426-4da0-4152-a56b-9f3f8d6c5f43",
   "metadata": {},
   "outputs": [
    {
     "data": {
      "text/plain": [
       "11.284"
      ]
     },
     "execution_count": 54,
     "metadata": {},
     "output_type": "execute_result"
    }
   ],
   "source": [
    "y_hat"
   ]
  },
  {
   "cell_type": "code",
   "execution_count": null,
   "id": "63b9d98c-98db-4290-8528-2ba12a067b68",
   "metadata": {},
   "outputs": [],
   "source": []
  }
 ],
 "metadata": {
  "kernelspec": {
   "display_name": "Python 3 (ipykernel)",
   "language": "python",
   "name": "python3"
  },
  "language_info": {
   "codemirror_mode": {
    "name": "ipython",
    "version": 3
   },
   "file_extension": ".py",
   "mimetype": "text/x-python",
   "name": "python",
   "nbconvert_exporter": "python",
   "pygments_lexer": "ipython3",
   "version": "3.10.2"
  }
 },
 "nbformat": 4,
 "nbformat_minor": 5
}
